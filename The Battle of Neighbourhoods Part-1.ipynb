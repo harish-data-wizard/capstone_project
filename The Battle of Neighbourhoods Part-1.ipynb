{
    "cells": [
        {
            "metadata": {
                "collapsed": true
            },
            "cell_type": "markdown",
            "source": "## The Battle of the Neighborhoods"
        },
        {
            "metadata": {},
            "cell_type": "markdown",
            "source": "### Introduction & Business Problem"
        },
        {
            "metadata": {},
            "cell_type": "markdown",
            "source": "###  Problem Background:"
        },
        {
            "metadata": {},
            "cell_type": "markdown",
            "source": "New York is the most populous city in the United States. It is also the financial capital of USA. It is a global hub of business and commerce. The city is a major centre for banking and finance, retailing, tourism, real estate, media, legal services, accountancy, insurance etc. in the United States. This also means that the market is highly competitive and hence the cost of doing business is also one of the highest. Thus, any new business venture or expansion needs to be analysed carefully. The insights derived from this analysis will give comprehensive understanding of the NY city landscape and the neighbouring places where businesses can consider for their expansion or setting up. This will help in risk mitigation and achieve better return on investment for their investments."
        },
        {
            "metadata": {},
            "cell_type": "markdown",
            "source": "###  Problem Description:"
        },
        {
            "metadata": {},
            "cell_type": "markdown",
            "source": " A restaurant is a business which offers food to customers in return for money. The City of New York is famous for its excellent cuisine. New York has some of the best fine dining restaurants which are highly rated for their range, taste, ambience and service. The city is home to \"nearly one thousand of the finest and most diverse cuisine restaurants in the world\", according to Michelin. So it is evident that to survive in such competitive market it is very important to strategically plan and invest. \n\nSo it is evident that to survive in such competitive market it is very important to startegically plan. Various factors need to be studied inorder to decide on the Location such as : <Br>\n1. New York Population density <Br>\n2. New York City Demographics <Br>\n3. Accessbility to wholesale and farmer markets nearby so that the ingredients can be purchased fresh to maintain quality and cost?<Br>\n4. Who are the competitors in that location? <Br>\n5. Cuisine served / Menu of the competitors <Br>\n6. Segmentation of the Borough <Br>\n7. Untapped markets <Br>\n8. Saturated markets etc<Br>"
        },
        {
            "metadata": {},
            "cell_type": "markdown",
            "source": "### Target Audience:"
        },
        {
            "metadata": {},
            "cell_type": "markdown",
            "source": "The target audience is anyone who wants to start a new restaurant in New York City. The objective is to locate and recommend which neighbourhood of New York City will be best choice to start a restaurant. The recommendation of best location to set up restaurant is arrived by analysing various factors."
        }
    ],
    "metadata": {
        "kernelspec": {
            "name": "python3",
            "display_name": "Python 3.6",
            "language": "python"
        },
        "language_info": {
            "name": "python",
            "version": "3.6.9",
            "mimetype": "text/x-python",
            "codemirror_mode": {
                "name": "ipython",
                "version": 3
            },
            "pygments_lexer": "ipython3",
            "nbconvert_exporter": "python",
            "file_extension": ".py"
        }
    },
    "nbformat": 4,
    "nbformat_minor": 1
}