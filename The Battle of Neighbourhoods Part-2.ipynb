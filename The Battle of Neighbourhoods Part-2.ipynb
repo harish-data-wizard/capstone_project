{
    "cells": [
        {
            "metadata": {
                "collapsed": true
            },
            "cell_type": "markdown",
            "source": "## The Battle of the Neighborhoods"
        },
        {
            "metadata": {},
            "cell_type": "markdown",
            "source": "### Data Section:"
        },
        {
            "metadata": {},
            "cell_type": "markdown",
            "source": "The City of Newyork and its neighborhoods will be segmented and explored on various factors to recommend best location for restaurants "
        },
        {
            "metadata": {},
            "cell_type": "markdown",
            "source": "***Dataset 1 :*** \n\nNeighborhood has a total of 5 boroughs and 306 neighborhoods. In order to segement the neighborhoods and explore them, we will essentially need a dataset that contains the 5 boroughs and the neighborhoods that exist in each borough as well as the the latitude and logitude coordinates of each neighborhood.\n\nThe first dataset is available for free to download and the link is given: https://geo.nyu.edu/catalog/nyu_2451_34572"
        },
        {
            "metadata": {},
            "cell_type": "markdown",
            "source": "***Dataset 2 :*** \n\nThe second dataset that will be used in this analysis is Farmers Markets and Food Boxes related data.\n\nThe second dataset is available for free to download and the link is given: https://data.cityofnewyork.us/dataset/DOHMH-Farmers-Markets-and-Food-Boxes/8vwk-6iz2\n\nWebsite-https://www.grownyc.org/greenmarketco/foodbox <Br>\nGrowNYC's Fresh ***Food Box*** Program is a food access initiative that enables under-served communities to purchase fresh, healthy, and primarily regionally grown produce well below traditional retail prices.\n    \nA ***farmers' market*** is often defined as a public site used by two or more local or regional producers for the direct sale of farm products to consumers. In addition to fresh fruits and vegetables, markets may sell dairy products, fish, meat, baked goods, and other minimally processed foods."
        },
        {
            "metadata": {},
            "cell_type": "markdown",
            "source": "***Dataset 3 :*** \n\nFor the below analysis we will get data from wikipedia as given below : <Br>\n1. New York Population <Br>\n2. New York City Demographics <Br>\n3. Cuisine of New York city <Br>\n    \nhttps://en.wikipedia.org/wiki/New_York_City <Br>\nhttps://en.wikipedia.org/wiki/Economy_of_New_York_City <Br>\nhttps://en.wikipedia.org/wiki/Portal:New_York_City <Br>\nhttps://en.wikipedia.org/wiki/Cuisine_of_New_York_City <Br>\nhttps://en.wikipedia.org/wiki/List_of_Michelin_starred_restaurants_in_New_York_City"
        },
        {
            "metadata": {},
            "cell_type": "markdown",
            "source": "***Data 4 :*** \n\nNewyork city geographical coordinates data will be utilized as input for the Foursquare API to retrieve venues information for each neighborhood. We will use the Foursquare API to explore neighborhoods in New York City. Below is the snapshot of the Foursquare API data.\n\n<a href=\"https://i.imgur.com/MOxxyoY.png \">\n  <img src=\"https://i.imgur.com/MOxxyoY.png\" alt=\"Data Sample\">\n</a>"
        }
    ],
    "metadata": {
        "kernelspec": {
            "name": "python3",
            "display_name": "Python 3.6",
            "language": "python"
        },
        "language_info": {
            "name": "python",
            "version": "3.6.9",
            "mimetype": "text/x-python",
            "codemirror_mode": {
                "name": "ipython",
                "version": 3
            },
            "pygments_lexer": "ipython3",
            "nbconvert_exporter": "python",
            "file_extension": ".py"
        }
    },
    "nbformat": 4,
    "nbformat_minor": 1
}